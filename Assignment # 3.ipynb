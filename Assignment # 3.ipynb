{
 "cells": [
  {
   "cell_type": "code",
   "execution_count": 3,
   "metadata": {},
   "outputs": [
    {
     "name": "stdout",
     "output_type": "stream",
     "text": [
      "THIS IS A SIMPLE CALCULATOR\n",
      "Select operation.\n",
      "1.Add\n",
      "2.Subtract\n",
      "3.Multiply\n",
      "4.Divide\n",
      "5.Power\n",
      "Enter choice(1/2/3/4/5): 3\n",
      "Enter first number: 6\n",
      "Enter second number: 3\n",
      "6.0 * 3.0 = 18.0\n"
     ]
    }
   ],
   "source": [
    "def add(x, y):\n",
    "   return x + y\n",
    "def subtract(x, y):\n",
    "   return x - y\n",
    "def multiply(x, y):\n",
    "   return x * y\n",
    "def divide(x, y):\n",
    "   return x / y\n",
    "def power(x, y):\n",
    "    return x ** y\n",
    "print(\"THIS IS A SIMPLE CALCULATOR\")\n",
    "print(\"Select operation.\")\n",
    "print(\"1.Add\")\n",
    "print(\"2.Subtract\")\n",
    "print(\"3.Multiply\")\n",
    "print(\"4.Divide\")\n",
    "print(\"5.Power\")\n",
    "choice = input(\"Enter choice(1/2/3/4/5): \")\n",
    "num1 = float(input(\"Enter first number: \"))\n",
    "num2 = float(input(\"Enter second number: \"))\n",
    "if choice == '1':\n",
    "   print(num1,\"+\",num2,\"=\", add(num1,num2))\n",
    "elif choice == '2':\n",
    "   print(num1,\"-\",num2,\"=\", subtract(num1,num2))\n",
    "elif choice == '3':\n",
    "   print(num1,\"*\",num2,\"=\", multiply(num1,num2))\n",
    "elif choice == '4':\n",
    "   print(num1,\"/\",num2,\"=\", divide(num1,num2))\n",
    "elif choice == '5':\n",
    "   print(num1,\"**\",num2,\"=\", power(num1,num2))\n",
    "else:\n",
    "   print(\"Invalid input\")"
   ]
  },
  {
   "cell_type": "code",
   "execution_count": 2,
   "metadata": {},
   "outputs": [
    {
     "name": "stdout",
     "output_type": "stream",
     "text": [
      "How many items in the list? 3\n",
      "Enter item r\n",
      "Enter item 5\n",
      "Enter item y\n",
      "Checking if number exists in list ( using for loop ) : \n",
      "One or more numbers exist in the given list\n"
     ]
    }
   ],
   "source": [
    "test_list = [ ]\n",
    "n=int(input(\"How many items in the list? \"))\n",
    "for i in range (n):\n",
    "    item=input(\"Enter item \")\n",
    "    test_list.append(item)\n",
    "  \n",
    "print(\"Checking if number exists in list ( using for loop ) : \") \n",
    "\n",
    "for i in test_list: \n",
    "    if(i.isdigit()): \n",
    "        print (\"One or more numbers exist in the given list\")\n",
    "        break \n",
    "    else:\n",
    "        if (type(i)==int):\n",
    "            print (\"List has numbers\")\n",
    "            break\n",
    "        else:\n",
    "            continue\n",
    "        print(\"No item is a number\")\n",
    "            "
   ]
  },
  {
   "cell_type": "code",
   "execution_count": 3,
   "metadata": {},
   "outputs": [
    {
     "name": "stdout",
     "output_type": "stream",
     "text": [
      "Enter the keysakina\n",
      "Enter the valuequtub\n",
      "{'key': 'value', 'sakina': 'qutub'}\n"
     ]
    }
   ],
   "source": [
    "key = input(\"Enter the key\")\n",
    "value = input(\"Enter the value\")\n",
    "d = {'key':'value'}\n",
    "d[key] = value\n",
    "print(d)"
   ]
  },
  {
   "cell_type": "code",
   "execution_count": 5,
   "metadata": {},
   "outputs": [
    {
     "data": {
      "text/plain": [
       "203"
      ]
     },
     "execution_count": 5,
     "metadata": {},
     "output_type": "execute_result"
    }
   ],
   "source": [
    "d = {'key1':17,'key2':145,'key3':41}\n",
    ">>> sum(d.values())"
   ]
  },
  {
   "cell_type": "code",
   "execution_count": 10,
   "metadata": {},
   "outputs": [
    {
     "name": "stdout",
     "output_type": "stream",
     "text": [
      "The actual elements are {1, 4, 5}\n"
     ]
    }
   ],
   "source": [
    "l = [1,2,3,4,4,5,5,6,1]\n",
    "v=set([x for x in l if l.count(x) > 1])\n",
    "print(\"The actual elements are\", v)"
   ]
  },
  {
   "cell_type": "code",
   "execution_count": 15,
   "metadata": {},
   "outputs": [
    {
     "name": "stdout",
     "output_type": "stream",
     "text": [
      "Enter the key to search sakina\n",
      "sakina is found!\n"
     ]
    }
   ],
   "source": [
    "dict1 = {'sakina':'1','qutub':'2'}\n",
    "key = input(\"Enter the key to search \")\n",
    "if key in dict1:\n",
    "    print(key , 'is found!')\n",
    "else:\n",
    "    print('Not found')"
   ]
  }
 ],
 "metadata": {
  "kernelspec": {
   "display_name": "Python 3",
   "language": "python",
   "name": "python3"
  },
  "language_info": {
   "codemirror_mode": {
    "name": "ipython",
    "version": 3
   },
   "file_extension": ".py",
   "mimetype": "text/x-python",
   "name": "python",
   "nbconvert_exporter": "python",
   "pygments_lexer": "ipython3",
   "version": "3.7.4"
  }
 },
 "nbformat": 4,
 "nbformat_minor": 2
}
