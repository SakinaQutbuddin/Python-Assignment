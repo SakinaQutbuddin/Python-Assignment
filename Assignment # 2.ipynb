{
 "cells": [
  {
   "cell_type": "code",
   "execution_count": 1,
   "metadata": {},
   "outputs": [
    {
     "name": "stdout",
     "output_type": "stream",
     "text": [
      "Enter marks obtained in 5 subjects: \n",
      "56\n",
      "22\n",
      "98\n",
      "67\n",
      "64\n",
      "Your Grade is B\n"
     ]
    }
   ],
   "source": [
    "print(\"Enter marks obtained in 5 subjects: \")\n",
    "mark1 = int(input())\n",
    "mark2 = int(input())\n",
    "mark3 = int(input())\n",
    "mark4 = int(input())\n",
    "mark5 = int(input())\n",
    "sum = mark1 + mark2 + mark3 + mark4 + mark5\n",
    "average = sum/5;\n",
    "if(average>=91 and average<=100):\n",
    "    print(\"Your Grade is A+\");\n",
    "elif(average>=81 and average<=90):\n",
    "    print(\"Your Grade is A\");\n",
    "elif(average>=71 and average<=80):\n",
    "    print(\"Your Grade is B+\");\n",
    "elif(average>=61 and average<=70):\n",
    "    print(\"Your Grade is B\");\n",
    "elif(average>=51 and average<=60):\n",
    "    print(\"Your Grade is C+\");\n",
    "elif(average>=41 and average<=50):\n",
    "    print(\"Your Grade is C\");\n",
    "elif(average>=0 and average<=40):\n",
    "    print(\"Your Grade is F\");\n",
    "else:\n",
    "    print(\"You are fail\");"
   ]
  },
  {
   "cell_type": "code",
   "execution_count": 3,
   "metadata": {},
   "outputs": [
    {
     "name": "stdout",
     "output_type": "stream",
     "text": [
      "Enter a number: 55\n",
      "This is an odd number.\n"
     ]
    }
   ],
   "source": [
    "num = int(input(\"Enter a number: \"))\n",
    "mod = num % 2\n",
    "if mod > 0:\n",
    "    print(\"This is an odd number.\")\n",
    "else:\n",
    "    print(\"This is an even number.\")"
   ]
  },
  {
   "cell_type": "code",
   "execution_count": 7,
   "metadata": {},
   "outputs": [
    {
     "name": "stdout",
     "output_type": "stream",
     "text": [
      "The length of list is:  3\n"
     ]
    }
   ],
   "source": [
    "n = len([10, 20, 30]) \n",
    "print(\"The length of list is: \", n)"
   ]
  },
  {
   "cell_type": "code",
   "execution_count": 10,
   "metadata": {},
   "outputs": [
    {
     "name": "stdout",
     "output_type": "stream",
     "text": [
      "How many numbers ? 3\n",
      "num? 3\n",
      "num? 6\n",
      "num? 9\n",
      "9\n"
     ]
    }
   ],
   "source": [
    "list1=[]\n",
    "n=int(input(\"How many numbers ? \"))\n",
    "for i in range(n):\n",
    "    num=int(input(\"num? \"))\n",
    "    list1.append(num)\n",
    "print(max(list1))"
   ]
  },
  {
   "cell_type": "code",
   "execution_count": 15,
   "metadata": {},
   "outputs": [
    {
     "name": "stdout",
     "output_type": "stream",
     "text": [
      "7\n"
     ]
    }
   ],
   "source": [
    "a = [1,1,2,3,5,8,13,21,34,55,89]\n",
    "def sum_list(a):\n",
    "    sum_numbers = 0\n",
    "    for x in a:\n",
    "        if x<5:\n",
    "            sum_numbers += x\n",
    "        else:\n",
    "            continue\n",
    "    return sum_numbers\n",
    "print(sum_list(a))"
   ]
  },
  {
   "cell_type": "code",
   "execution_count": 20,
   "metadata": {},
   "outputs": [
    {
     "name": "stdout",
     "output_type": "stream",
     "text": [
      "16\n"
     ]
    }
   ],
   "source": [
    "z=[1,3,7,5]\n",
    "def sum(numbers):\n",
    "    total = 0\n",
    "    for x in numbers:\n",
    "        total += x\n",
    "    return total\n",
    "print(sum(z))"
   ]
  },
  {
   "cell_type": "code",
   "execution_count": null,
   "metadata": {},
   "outputs": [],
   "source": []
  }
 ],
 "metadata": {
  "kernelspec": {
   "display_name": "Python 3",
   "language": "python",
   "name": "python3"
  },
  "language_info": {
   "codemirror_mode": {
    "name": "ipython",
    "version": 3
   },
   "file_extension": ".py",
   "mimetype": "text/x-python",
   "name": "python",
   "nbconvert_exporter": "python",
   "pygments_lexer": "ipython3",
   "version": "3.7.4"
  }
 },
 "nbformat": 4,
 "nbformat_minor": 2
}
